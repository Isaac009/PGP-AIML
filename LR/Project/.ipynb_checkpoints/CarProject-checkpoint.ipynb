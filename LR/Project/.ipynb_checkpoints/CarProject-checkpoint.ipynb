{
 "cells": [
  {
   "cell_type": "markdown",
   "metadata": {},
   "source": [
    "Description\n",
    "Context\n",
    "There is a huge demand for used cars in the Indian Market today. As sales of new cars have slowed down in the recent past, the pre-owned car market has continued to grow over the past years and is larger than the new car market now. Cars4U is a budding tech start-up that aims to find footholes in this market.\n",
    "\n",
    "In 2018-19, while new car sales were recorded at 3.6 million units, around 4 million second-hand cars were bought and sold. There is a slowdown in new car sales and that could mean that the demand is shifting towards the pre-owned market. In fact, some car sellers replace their old cars with pre-owned cars instead of buying new ones. Unlike new cars, where price and supply are fairly deterministic and managed by OEMs (Original Equipment Manufacturer / except for dealership level discounts which come into play only in the last stage of the customer journey), used cars are very different beasts with huge uncertainty in both pricing and supply. Keeping this in mind, the pricing scheme of these used cars becomes important in order to grow in the market.\n",
    "\n",
    "As a senior data scientist at Cars4U, you have to come up with a pricing model that can effectively predict the price of used cars and can help the business in devising profitable strategies using differential pricing. For example, if the business knows the market price, it will never sell anything below it.\n",
    "\n",
    " \n",
    "\n",
    "Objective\n",
    "To explore and visualize the dataset, build a linear regression model to predict the prices of used cars, and generate a set of insights and recommendations that will help the business.\n",
    "\n",
    " \n",
    "\n",
    "Data Description\n",
    "The data contains the different attributes of used cars sold in different locations. The detailed data dictionary is given below.\n",
    "\n",
    "Data Dictionary\n",
    "\n",
    "S.No.: Serial number\n",
    "Name: Name of the car which includes brand name and model name\n",
    "Location: Location in which the car is being sold or is available for purchase (cities)\n",
    "Year: Manufacturing year of the car\n",
    "Kilometers_driven: The total kilometers driven in the car by the previous owner(s) in km\n",
    "Fuel_Type: The type of fuel used by the car (Petrol, Diesel, Electric, CNG, LPG)\n",
    "Transmission: The type of transmission used by the car (Automatic/Manual)\n",
    "Owner: Type of ownership\n",
    "Mileage: The standard mileage offered by the car company in kmpl or km/kg\n",
    "Engine: The displacement volume of the engine in CC\n",
    "Power: The maximum power of the engine in bhp\n",
    "Seats: The number of seats in the car\n",
    "New_Price: The price of a new car of the same model in INR Lakhs (1 Lakh INR = 100,000 INR)\n",
    "Price: The price of the used car in INR Lakhs\n",
    " \n",
    "\n",
    "Best Practices for Notebook\n",
    "The notebook should be well-documented, with inline comments explaining the functionality of code and markdown cells containing comments on the observations and insights.\n",
    "The notebook should be run from start to finish in a sequential manner before submission.\n",
    "It is preferable to remove all warnings and errors before submission.\n",
    "The notebook should be submitted as an HTML file (.html) and NOT as a notebook file (.ipynb).\n",
    " \n",
    "\n",
    "Submission Guidelines\n",
    "The submission should be a well-commented Jupyter notebook [format - .html]\n",
    "Any assignment found copied/ plagiarized with other groups will not be graded and awarded zero marks.\n",
    "Please ensure timely submission as any submission post-deadline will not be accepted for evaluation.\n",
    "Submission will not be evaluated if\n",
    "it is submitted post-deadline, or,\n",
    "more than 1 file is submitted.\n",
    " \n",
    "\n",
    "Happy Learning!"
   ]
  },
  {
   "cell_type": "markdown",
   "metadata": {},
   "source": [
    "# 1. Loading libraries"
   ]
  },
  {
   "cell_type": "code",
   "execution_count": null,
   "metadata": {},
   "outputs": [
    {
     "ename": "",
     "evalue": "",
     "output_type": "error",
     "traceback": [
      "\u001b[1;31mFailed to start the Kernel. \n",
      "The 'python3713jvsc74a57bd09704409af8bc4312f81340559434fa26f5f9fccba62242ec32f6378139767644' kernel is not available. Please pick another suitable kernel instead, or install that kernel. \n",
      "View Jupyter <a href='command:jupyter.viewOutput'>log</a> for further details."
     ]
    }
   ],
   "source": [
    "import pandas as pd\n",
    "import numpy as np\n",
    "\n",
    "import matplotlib.pyplot as plt\n",
    "import seaborn as sns\n",
    "\n",
    "# Removes the limit from the number of displayed columns and rows.\n",
    "# This is so I can see the entire dataframe when I print it\n",
    "pd.set_option('display.max_columns', None)\n",
    "# pd.set_option('display.max_rows', None)\n",
    "pd.set_option('display.max_rows', 200)"
   ]
  },
  {
   "cell_type": "markdown",
   "metadata": {},
   "source": []
  },
  {
   "cell_type": "markdown",
   "metadata": {},
   "source": [
    "# 2. Loading and exploring the data\n",
    "\n",
    "In this section the goals are to load the data into python and then to check its basic properties. This will include the dimension, column types and names, and missingness counts."
   ]
  },
  {
   "cell_type": "code",
   "execution_count": null,
   "metadata": {},
   "outputs": [],
   "source": [
    "df = pd.read_csv(\"FIFA2019.csv\", index_col=0)\n",
    "print(f'There are {df.shape[0]} rows and {df.shape[1]} columns.')  # f-string\n",
    "\n",
    "# I'm now going to look at 10 random rows\n",
    "# I'm setting the random seed via np.random.seed so that\n",
    "# I get the same random results every time\n",
    "np.random.seed(1)\n",
    "df.sample(n=10)"
   ]
  }
 ],
 "metadata": {
  "kernelspec": {
   "display_name": "Python 3 (ipykernel)",
   "language": "python",
   "name": "python3"
  },
  "language_info": {
   "codemirror_mode": {
    "name": "ipython",
    "version": 3
   },
   "file_extension": ".py",
   "mimetype": "text/x-python",
   "name": "python",
   "nbconvert_exporter": "python",
   "pygments_lexer": "ipython3",
   "version": "3.7.13"
  },
  "vscode": {
   "interpreter": {
    "hash": "9704409af8bc4312f81340559434fa26f5f9fccba62242ec32f6378139767644"
   }
  }
 },
 "nbformat": 4,
 "nbformat_minor": 2
}
